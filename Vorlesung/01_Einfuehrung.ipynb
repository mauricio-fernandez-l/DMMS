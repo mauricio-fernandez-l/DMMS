{
 "cells": [
  {
   "cell_type": "markdown",
   "metadata": {
    "slideshow": {
     "slide_type": "slide"
    }
   },
   "source": [
    "# Einführung in digitale Zwillinge\n",
    "\n",
    "Dozent: Dr.-Ing. Mauricio Fernández "
   ]
  },
  {
   "cell_type": "markdown",
   "metadata": {
    "slideshow": {
     "slide_type": "subslide"
    }
   },
   "source": [
    "### Inhalt\n",
    "\n",
    "* [1. Digitale Zwillinge](#1.-Digitale-Zwillinge)\n",
    "* [2. Datengetriebene Modelle](#2.-Datengetriebene-Modelle)"
   ]
  },
  {
   "cell_type": "markdown",
   "metadata": {
    "slideshow": {
     "slide_type": "slide"
    }
   },
   "source": [
    "## 1. Digitale Zwillinge"
   ]
  },
  {
   "cell_type": "markdown",
   "metadata": {
    "slideshow": {
     "slide_type": "subslide"
    }
   },
   "source": [
    "### Definition\n",
    "\n",
    "<img src=\"../files/figures/dz.jpg\" width=\"500\" align=\"right\">\n",
    "\n",
    "Ein *digitaler Zwilling (DZ)* ist eine digitale Repräsentation (Simulationsmodell) eines materiellen oder immateriellen Objektes aus der realen Welt. Der DZ besteht aus Daten und Algorithmen und kann bspw. über Sensoren mit der realen Welt verbunden sein."
   ]
  },
  {
   "cell_type": "markdown",
   "metadata": {
    "slideshow": {
     "slide_type": "subslide"
    }
   },
   "source": [
    "### Beispiele\n",
    "\n",
    "<img src=\"./files/figures/c1.png\" width=\"700\" align=\"center\">"
   ]
  },
  {
   "cell_type": "markdown",
   "metadata": {
    "slideshow": {
     "slide_type": "subslide"
    }
   },
   "source": [
    "### Aufgaben\n",
    "\n",
    "<img src=\"./files/figures/c1.png\" width=400 align='right'>\n",
    "\n",
    "* Komplexe Zusammenhänge abbilden\n",
    "* Zeit und Resourcen ersparen\n",
    "* Entwicklungzyklen verkürzen\n",
    "* Fehler im Vorfeld korrigieren\n",
    "* Entscheidungen unterstützen"
   ]
  },
  {
   "cell_type": "markdown",
   "metadata": {
    "slideshow": {
     "slide_type": "slide"
    }
   },
   "source": [
    "## 2. Datengetriebene Modelle"
   ]
  },
  {
   "cell_type": "markdown",
   "metadata": {
    "slideshow": {
     "slide_type": "subslide"
    }
   },
   "source": [
    "### Sammeln von Daten\n",
    "\n",
    "* Reale Daten - Experimente\n",
    "* Synthetische Daten - Simulationen\n",
    "\n",
    "<img src=\"./files/figures/c1.png\" width=400>"
   ]
  },
  {
   "cell_type": "markdown",
   "metadata": {
    "slideshow": {
     "slide_type": "subslide"
    }
   },
   "source": [
    "### Ziele eines Ersatzmodells\n",
    "\n",
    "* Generierung von hocheffiziente Ersatzmodelle für Teilsysteme zur Integration in größere Systemmodelle\n",
    "* Abbildung komplexer Systeme, welche nur unter sehr hohen Aufwand erfasst werden können\n",
    "\n",
    "<img src=\"./files/figures/c1.png\" width=400>"
   ]
  },
  {
   "cell_type": "markdown",
   "metadata": {
    "slideshow": {
     "slide_type": "subslide"
    }
   },
   "source": [
    "### Augenmerk\n",
    "\n",
    "* Eingabe- und Ausgabegrößen\n",
    "* Benötigte Eigenschaften vom Modell\n",
    "* Gültige Reichweite vom Modell\n",
    "* Unsicherheiten in Daten und Modell\n",
    "\n",
    "<img src=\"./files/figures/c1.png\" width=400>"
   ]
  },
  {
   "cell_type": "markdown",
   "metadata": {
    "slideshow": {
     "slide_type": "subslide"
    }
   },
   "source": [
    "### Künstliche Intelligenz (KI) \n",
    "\n",
    "* Identifikation von Mustern in Daten\n",
    "* Hocheffizienten datengetriebenen Modellen mittels maschinellem Lernen (bspw. mit künstlichen neuronalen Netze)\n",
    "\n",
    "<img src=\"./files/figures/c2.png\" width=600 align=\"center\">"
   ]
  }
 ],
 "metadata": {
  "celltoolbar": "Slideshow",
  "kernelspec": {
   "display_name": "Python 3",
   "language": "python",
   "name": "python3"
  },
  "language_info": {
   "codemirror_mode": {
    "name": "ipython",
    "version": 3
   },
   "file_extension": ".py",
   "mimetype": "text/x-python",
   "name": "python",
   "nbconvert_exporter": "python",
   "pygments_lexer": "ipython3",
   "version": "3.7.7"
  }
 },
 "nbformat": 4,
 "nbformat_minor": 4
}
