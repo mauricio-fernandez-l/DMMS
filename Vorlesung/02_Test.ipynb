{
 "cells": [
  {
   "cell_type": "markdown",
   "metadata": {
    "slideshow": {
     "slide_type": "slide"
    }
   },
   "source": [
    "# Einführung in digitale Zwillinge\n",
    "\n",
    "Dozent: Dr.-Ing. Mauricio Fernández "
   ]
  },
  {
   "cell_type": "markdown",
   "metadata": {
    "slideshow": {
     "slide_type": "subslide"
    }
   },
   "source": [
    "### Definition\n",
    "\n",
    "<img src=\"./files/figures/dz.jpg\" width=500 align=\"right\">\n",
    "\n",
    "Ein *digitaler Zwilling (DZ)* ist eine digitale Repräsentation (Simulationsmodell) eines materiellen oder immateriellen Objektes aus der realen Welt. Der DZ besteht aus Daten und Algorithmen und kann bspw. über Sensoren mit der realen Welt verbunden sein.\n",
    "\n",
    "<img src=\"./files/figures/brain.png\" alt=\"neural netowork\" width=\"400\" align=\"center\">"
   ]
  },
  {
   "cell_type": "code",
   "execution_count": null,
   "metadata": {},
   "outputs": [],
   "source": []
  }
 ],
 "metadata": {
  "celltoolbar": "Slideshow",
  "kernelspec": {
   "display_name": "Python 3",
   "language": "python",
   "name": "python3"
  },
  "language_info": {
   "codemirror_mode": {
    "name": "ipython",
    "version": 3
   },
   "file_extension": ".py",
   "mimetype": "text/x-python",
   "name": "python",
   "nbconvert_exporter": "python",
   "pygments_lexer": "ipython3",
   "version": "3.7.7"
  }
 },
 "nbformat": 4,
 "nbformat_minor": 4
}
